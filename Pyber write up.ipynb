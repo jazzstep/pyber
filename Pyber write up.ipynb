{
 "cells": [
  {
   "cell_type": "markdown",
   "metadata": {},
   "source": [
    "There is a negative trend between the average fare per city and the number of rides per city when comparing across city types. In essence, rural drivers account for some of the highest average fares, suburban drivers account for a middling amount, and urban drivers account for the lowest fares, even though urban drivers account for the most rides out of the total number of rides. There is a spread difference as well across each of the 3 city types. Rural drivers across rural cities have the greatest variance in average fare per city, but don't have as much variance in terms of how many rides they give per city. In contrast, drivers from urban cities have less variance across average fare, but much more variance across how many rides drivers give per urban city. Meanwhile, suburban drivers account for around 26% of total rides, even though only 16.5% of all drivers drive in suburban spaces (implying that drivers in the suburbs give more rides per driver). Rural drivers account for only 2.6% of all drivers, but earn 6.8% of total earnings and drive 5.3% of rides. Suburban drivers account for 30.5% of all earnings and drive 26.3% of total drives, but only make up 16.5% of drivers. Meanwhile, Urban drivers make up 80.9% of all drivers, but drive only 68.4% of rides and make only 62.7% of total earnings. This means that urban drivers get less rides per driver, and make less money than drivers from other areas. Although this may be because there is a glut of drivers in urban areas, and more of a \"driver's market\" in other areas, it could be that there are differences in urban, rural and suburban area user bases. One way to tell if that is true would be to run an ANOVA of number of rides per city by average fare per city, and seeing if there is an interaction by rural, suburban and urban areas. This would imply that there is something different between those areas beyond number of available drivers.  "
   ]
  }
 ],
 "metadata": {
  "kernelspec": {
   "display_name": "Python 3",
   "language": "python",
   "name": "python3"
  },
  "language_info": {
   "codemirror_mode": {
    "name": "ipython",
    "version": 3
   },
   "file_extension": ".py",
   "mimetype": "text/x-python",
   "name": "python",
   "nbconvert_exporter": "python",
   "pygments_lexer": "ipython3",
   "version": "3.7.1"
  }
 },
 "nbformat": 4,
 "nbformat_minor": 2
}
